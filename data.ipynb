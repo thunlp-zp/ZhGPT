{
 "cells": [
  {
   "cell_type": "code",
   "execution_count": 1,
   "metadata": {},
   "outputs": [],
   "source": [
    "import json\n",
    "import pandas as pd\n",
    "from tqdm import tqdm\n"
   ]
  },
  {
   "cell_type": "code",
   "execution_count": 5,
   "metadata": {},
   "outputs": [
    {
     "name": "stdout",
     "output_type": "stream",
     "text": [
      "endding 396242 15523 4 77.16682986659667\n"
     ]
    }
   ],
   "source": [
    "json_file = './GPT-1/data/poetry.json'\n",
    "\n",
    "data = pd.read_json(json_file)\n",
    "order = [ 'title', 'section', 'author',  'chapter', 'comment', 'content', 'abstract', 'prologue']\n",
    "data = data[order]\n",
    "# data[(data['tags'].notnull()) & (data['tags'] != \"\")].head(5)\n",
    "i = 0\n",
    "lengths = []\n",
    "with open(\"./GPT-1/data/poetry.txt\", \"w\", encoding=\"utf-8\") as f:\n",
    "    for line in data.iterrows():\n",
    "        new_line = \"·\".join([k for k in line[1] if k])\n",
    "        lengths.append(len(new_line))\n",
    "        f.write(new_line)\n",
    "        f.write(\"\\n\")\n",
    "        i += 1\n",
    "\n",
    "print(\"endding\", i, max(lengths), min(lengths), sum(lengths)/len(lengths))\n",
    "\n"
   ]
  }
 ],
 "metadata": {
  "kernelspec": {
   "display_name": "base",
   "language": "python",
   "name": "python3"
  },
  "language_info": {
   "codemirror_mode": {
    "name": "ipython",
    "version": 3
   },
   "file_extension": ".py",
   "mimetype": "text/x-python",
   "name": "python",
   "nbconvert_exporter": "python",
   "pygments_lexer": "ipython3",
   "version": "3.9.12"
  },
  "orig_nbformat": 4
 },
 "nbformat": 4,
 "nbformat_minor": 2
}
